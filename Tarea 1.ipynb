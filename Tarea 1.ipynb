{
 "cells": [
  {
   "cell_type": "markdown",
   "metadata": {},
   "source": [
    "#### Importamos la librería de pandas, matplotlib y cargamos los tres archivos correspondientes a los datos de entrenamiento y los de validación."
   ]
  },
  {
   "cell_type": "code",
   "execution_count": 1,
   "metadata": {
    "scrolled": true
   },
   "outputs": [],
   "source": [
    "import pandas as pd\n",
    "import numpy as np \n",
    "import matplotlib\n",
    "import matplotlib.pyplot as plt\n",
    "import math \n",
    "\n",
    "df = pd.read_csv('train.csv')\n",
    "df22 = pd.read_csv('test.csv')\n",
    "df33 = pd.read_csv('sample_submission.csv')"
   ]
  },
  {
   "cell_type": "markdown",
   "metadata": {},
   "source": [
    "#### Tanto en los datos de entrenamiento como en los de validación eleguimos 10 columnas de datos que nos parecen interesantes como el terreno, classificación, año de construccion, de remodelación, de venta, número de baños, etc. Por separado, seleccionamos la columna de precio de venta, que es la variable que queremos predecir."
   ]
  },
  {
   "cell_type": "code",
   "execution_count": 2,
   "metadata": {},
   "outputs": [],
   "source": [
    "train = pd.DataFrame(df, columns = ['LotArea', 'MSSubClass', 'YearBuilt', 'YearRemodAdd', 'GrLivArea', 'HalfBath', 'FullBath', 'BedroomAbvGr', 'PoolArea', 'YrSold'])\n",
    "precio_train = df['SalePrice']\n",
    "\n",
    "test = pd.DataFrame(df22, columns = ['LotArea', 'MSSubClass', 'YearBuilt', 'YearRemodAdd', 'GrLivArea', 'HalfBath', 'FullBath', 'BedroomAbvGr', 'PoolArea', 'YrSold'])\n",
    "precio_test = df33['SalePrice']"
   ]
  },
  {
   "cell_type": "markdown",
   "metadata": {},
   "source": [
    "#### Verificamos que los datos se hayan cargado correctamente."
   ]
  },
  {
   "cell_type": "code",
   "execution_count": 3,
   "metadata": {},
   "outputs": [
    {
     "data": {
      "text/html": [
       "<div>\n",
       "<style scoped>\n",
       "    .dataframe tbody tr th:only-of-type {\n",
       "        vertical-align: middle;\n",
       "    }\n",
       "\n",
       "    .dataframe tbody tr th {\n",
       "        vertical-align: top;\n",
       "    }\n",
       "\n",
       "    .dataframe thead th {\n",
       "        text-align: right;\n",
       "    }\n",
       "</style>\n",
       "<table border=\"1\" class=\"dataframe\">\n",
       "  <thead>\n",
       "    <tr style=\"text-align: right;\">\n",
       "      <th></th>\n",
       "      <th>LotArea</th>\n",
       "      <th>MSSubClass</th>\n",
       "      <th>YearBuilt</th>\n",
       "      <th>YearRemodAdd</th>\n",
       "      <th>GrLivArea</th>\n",
       "      <th>HalfBath</th>\n",
       "      <th>FullBath</th>\n",
       "      <th>BedroomAbvGr</th>\n",
       "      <th>PoolArea</th>\n",
       "      <th>YrSold</th>\n",
       "    </tr>\n",
       "  </thead>\n",
       "  <tbody>\n",
       "    <tr>\n",
       "      <th>0</th>\n",
       "      <td>8450</td>\n",
       "      <td>60</td>\n",
       "      <td>2003</td>\n",
       "      <td>2003</td>\n",
       "      <td>1710</td>\n",
       "      <td>1</td>\n",
       "      <td>2</td>\n",
       "      <td>3</td>\n",
       "      <td>0</td>\n",
       "      <td>2008</td>\n",
       "    </tr>\n",
       "    <tr>\n",
       "      <th>1</th>\n",
       "      <td>9600</td>\n",
       "      <td>20</td>\n",
       "      <td>1976</td>\n",
       "      <td>1976</td>\n",
       "      <td>1262</td>\n",
       "      <td>0</td>\n",
       "      <td>2</td>\n",
       "      <td>3</td>\n",
       "      <td>0</td>\n",
       "      <td>2007</td>\n",
       "    </tr>\n",
       "    <tr>\n",
       "      <th>2</th>\n",
       "      <td>11250</td>\n",
       "      <td>60</td>\n",
       "      <td>2001</td>\n",
       "      <td>2002</td>\n",
       "      <td>1786</td>\n",
       "      <td>1</td>\n",
       "      <td>2</td>\n",
       "      <td>3</td>\n",
       "      <td>0</td>\n",
       "      <td>2008</td>\n",
       "    </tr>\n",
       "    <tr>\n",
       "      <th>3</th>\n",
       "      <td>9550</td>\n",
       "      <td>70</td>\n",
       "      <td>1915</td>\n",
       "      <td>1970</td>\n",
       "      <td>1717</td>\n",
       "      <td>0</td>\n",
       "      <td>1</td>\n",
       "      <td>3</td>\n",
       "      <td>0</td>\n",
       "      <td>2006</td>\n",
       "    </tr>\n",
       "    <tr>\n",
       "      <th>4</th>\n",
       "      <td>14260</td>\n",
       "      <td>60</td>\n",
       "      <td>2000</td>\n",
       "      <td>2000</td>\n",
       "      <td>2198</td>\n",
       "      <td>1</td>\n",
       "      <td>2</td>\n",
       "      <td>4</td>\n",
       "      <td>0</td>\n",
       "      <td>2008</td>\n",
       "    </tr>\n",
       "  </tbody>\n",
       "</table>\n",
       "</div>"
      ],
      "text/plain": [
       "   LotArea  MSSubClass  YearBuilt  YearRemodAdd  GrLivArea  HalfBath  \\\n",
       "0     8450          60       2003          2003       1710         1   \n",
       "1     9600          20       1976          1976       1262         0   \n",
       "2    11250          60       2001          2002       1786         1   \n",
       "3     9550          70       1915          1970       1717         0   \n",
       "4    14260          60       2000          2000       2198         1   \n",
       "\n",
       "   FullBath  BedroomAbvGr  PoolArea  YrSold  \n",
       "0         2             3         0    2008  \n",
       "1         2             3         0    2007  \n",
       "2         2             3         0    2008  \n",
       "3         1             3         0    2006  \n",
       "4         2             4         0    2008  "
      ]
     },
     "execution_count": 3,
     "metadata": {},
     "output_type": "execute_result"
    }
   ],
   "source": [
    "train.head()"
   ]
  },
  {
   "cell_type": "code",
   "execution_count": 4,
   "metadata": {},
   "outputs": [
    {
     "data": {
      "text/html": [
       "<div>\n",
       "<style scoped>\n",
       "    .dataframe tbody tr th:only-of-type {\n",
       "        vertical-align: middle;\n",
       "    }\n",
       "\n",
       "    .dataframe tbody tr th {\n",
       "        vertical-align: top;\n",
       "    }\n",
       "\n",
       "    .dataframe thead th {\n",
       "        text-align: right;\n",
       "    }\n",
       "</style>\n",
       "<table border=\"1\" class=\"dataframe\">\n",
       "  <thead>\n",
       "    <tr style=\"text-align: right;\">\n",
       "      <th></th>\n",
       "      <th>LotArea</th>\n",
       "      <th>MSSubClass</th>\n",
       "      <th>YearBuilt</th>\n",
       "      <th>YearRemodAdd</th>\n",
       "      <th>GrLivArea</th>\n",
       "      <th>HalfBath</th>\n",
       "      <th>FullBath</th>\n",
       "      <th>BedroomAbvGr</th>\n",
       "      <th>PoolArea</th>\n",
       "      <th>YrSold</th>\n",
       "    </tr>\n",
       "  </thead>\n",
       "  <tbody>\n",
       "    <tr>\n",
       "      <th>0</th>\n",
       "      <td>11622</td>\n",
       "      <td>20</td>\n",
       "      <td>1961</td>\n",
       "      <td>1961</td>\n",
       "      <td>896</td>\n",
       "      <td>0</td>\n",
       "      <td>1</td>\n",
       "      <td>2</td>\n",
       "      <td>0</td>\n",
       "      <td>2010</td>\n",
       "    </tr>\n",
       "    <tr>\n",
       "      <th>1</th>\n",
       "      <td>14267</td>\n",
       "      <td>20</td>\n",
       "      <td>1958</td>\n",
       "      <td>1958</td>\n",
       "      <td>1329</td>\n",
       "      <td>1</td>\n",
       "      <td>1</td>\n",
       "      <td>3</td>\n",
       "      <td>0</td>\n",
       "      <td>2010</td>\n",
       "    </tr>\n",
       "    <tr>\n",
       "      <th>2</th>\n",
       "      <td>13830</td>\n",
       "      <td>60</td>\n",
       "      <td>1997</td>\n",
       "      <td>1998</td>\n",
       "      <td>1629</td>\n",
       "      <td>1</td>\n",
       "      <td>2</td>\n",
       "      <td>3</td>\n",
       "      <td>0</td>\n",
       "      <td>2010</td>\n",
       "    </tr>\n",
       "    <tr>\n",
       "      <th>3</th>\n",
       "      <td>9978</td>\n",
       "      <td>60</td>\n",
       "      <td>1998</td>\n",
       "      <td>1998</td>\n",
       "      <td>1604</td>\n",
       "      <td>1</td>\n",
       "      <td>2</td>\n",
       "      <td>3</td>\n",
       "      <td>0</td>\n",
       "      <td>2010</td>\n",
       "    </tr>\n",
       "    <tr>\n",
       "      <th>4</th>\n",
       "      <td>5005</td>\n",
       "      <td>120</td>\n",
       "      <td>1992</td>\n",
       "      <td>1992</td>\n",
       "      <td>1280</td>\n",
       "      <td>0</td>\n",
       "      <td>2</td>\n",
       "      <td>2</td>\n",
       "      <td>0</td>\n",
       "      <td>2010</td>\n",
       "    </tr>\n",
       "  </tbody>\n",
       "</table>\n",
       "</div>"
      ],
      "text/plain": [
       "   LotArea  MSSubClass  YearBuilt  YearRemodAdd  GrLivArea  HalfBath  \\\n",
       "0    11622          20       1961          1961        896         0   \n",
       "1    14267          20       1958          1958       1329         1   \n",
       "2    13830          60       1997          1998       1629         1   \n",
       "3     9978          60       1998          1998       1604         1   \n",
       "4     5005         120       1992          1992       1280         0   \n",
       "\n",
       "   FullBath  BedroomAbvGr  PoolArea  YrSold  \n",
       "0         1             2         0    2010  \n",
       "1         1             3         0    2010  \n",
       "2         2             3         0    2010  \n",
       "3         2             3         0    2010  \n",
       "4         2             2         0    2010  "
      ]
     },
     "execution_count": 4,
     "metadata": {},
     "output_type": "execute_result"
    }
   ],
   "source": [
    "test.head()"
   ]
  },
  {
   "cell_type": "markdown",
   "metadata": {},
   "source": [
    "##### Para que valores tan disperes como el año que se mide en miles y numeros de baños que mide en unidades o decenas tengan el mismo peso dividimos cada columna entre el máximo de cada columna. "
   ]
  },
  {
   "cell_type": "code",
   "execution_count": 5,
   "metadata": {
    "scrolled": true
   },
   "outputs": [],
   "source": [
    "train['LotArea'] = train['LotArea']/(train['LotArea'].max())\n",
    "train['MSSubClass'] = train['MSSubClass']/(train['MSSubClass'].max())\n",
    "train['YearBuilt'] = train['YearBuilt']/(train['YearBuilt'].max())\n",
    "train['YearRemodAdd'] = train['YearRemodAdd']/(train['YearRemodAdd'].max())\n",
    "train['GrLivArea'] = train['GrLivArea']/(train['GrLivArea'].max())\n",
    "train['HalfBath'] = train['HalfBath']/(train['HalfBath'].max())\n",
    "train['FullBath'] = train['FullBath']/(train['FullBath'].max())\n",
    "train['BedroomAbvGr'] = train['BedroomAbvGr']/(train['BedroomAbvGr'].max())\n",
    "train['PoolArea'] = train['PoolArea']/(train['PoolArea'].max())\n",
    "train['YrSold'] = train['YrSold']/(train['YrSold'].max())\n",
    "\n",
    "test['LotArea'] = test['LotArea']/(test['LotArea'].max())\n",
    "test['MSSubClass'] = test['MSSubClass']/(test['MSSubClass'].max())\n",
    "test['YearBuilt'] = test['YearBuilt']/(test['YearBuilt'].max())\n",
    "test['YearRemodAdd'] = test['YearRemodAdd']/(test['YearRemodAdd'].max())\n",
    "test['GrLivArea'] = test['GrLivArea']/(test['GrLivArea'].max())\n",
    "test['HalfBath'] = test['HalfBath']/(test['HalfBath'].max())\n",
    "test['FullBath'] = test['FullBath']/(test['FullBath'].max())\n",
    "test['BedroomAbvGr'] = test['BedroomAbvGr']/(test['BedroomAbvGr'].max())\n",
    "test['PoolArea'] = test['PoolArea']/(test['PoolArea'].max())\n",
    "test['YrSold'] = test['YrSold']/(test['YrSold'].max())"
   ]
  },
  {
   "cell_type": "markdown",
   "metadata": {},
   "source": [
    "#### Revisamos que esté todo correcto."
   ]
  },
  {
   "cell_type": "code",
   "execution_count": 6,
   "metadata": {
    "scrolled": true
   },
   "outputs": [
    {
     "data": {
      "text/html": [
       "<div>\n",
       "<style scoped>\n",
       "    .dataframe tbody tr th:only-of-type {\n",
       "        vertical-align: middle;\n",
       "    }\n",
       "\n",
       "    .dataframe tbody tr th {\n",
       "        vertical-align: top;\n",
       "    }\n",
       "\n",
       "    .dataframe thead th {\n",
       "        text-align: right;\n",
       "    }\n",
       "</style>\n",
       "<table border=\"1\" class=\"dataframe\">\n",
       "  <thead>\n",
       "    <tr style=\"text-align: right;\">\n",
       "      <th></th>\n",
       "      <th>LotArea</th>\n",
       "      <th>MSSubClass</th>\n",
       "      <th>YearBuilt</th>\n",
       "      <th>YearRemodAdd</th>\n",
       "      <th>GrLivArea</th>\n",
       "      <th>HalfBath</th>\n",
       "      <th>FullBath</th>\n",
       "      <th>BedroomAbvGr</th>\n",
       "      <th>PoolArea</th>\n",
       "      <th>YrSold</th>\n",
       "    </tr>\n",
       "  </thead>\n",
       "  <tbody>\n",
       "    <tr>\n",
       "      <th>0</th>\n",
       "      <td>0.039258</td>\n",
       "      <td>0.315789</td>\n",
       "      <td>0.996517</td>\n",
       "      <td>0.996517</td>\n",
       "      <td>0.303084</td>\n",
       "      <td>0.5</td>\n",
       "      <td>0.666667</td>\n",
       "      <td>0.375</td>\n",
       "      <td>0.0</td>\n",
       "      <td>0.999005</td>\n",
       "    </tr>\n",
       "    <tr>\n",
       "      <th>1</th>\n",
       "      <td>0.044600</td>\n",
       "      <td>0.105263</td>\n",
       "      <td>0.983085</td>\n",
       "      <td>0.983085</td>\n",
       "      <td>0.223680</td>\n",
       "      <td>0.0</td>\n",
       "      <td>0.666667</td>\n",
       "      <td>0.375</td>\n",
       "      <td>0.0</td>\n",
       "      <td>0.998507</td>\n",
       "    </tr>\n",
       "    <tr>\n",
       "      <th>2</th>\n",
       "      <td>0.052266</td>\n",
       "      <td>0.315789</td>\n",
       "      <td>0.995522</td>\n",
       "      <td>0.996020</td>\n",
       "      <td>0.316554</td>\n",
       "      <td>0.5</td>\n",
       "      <td>0.666667</td>\n",
       "      <td>0.375</td>\n",
       "      <td>0.0</td>\n",
       "      <td>0.999005</td>\n",
       "    </tr>\n",
       "    <tr>\n",
       "      <th>3</th>\n",
       "      <td>0.044368</td>\n",
       "      <td>0.368421</td>\n",
       "      <td>0.952736</td>\n",
       "      <td>0.980100</td>\n",
       "      <td>0.304325</td>\n",
       "      <td>0.0</td>\n",
       "      <td>0.333333</td>\n",
       "      <td>0.375</td>\n",
       "      <td>0.0</td>\n",
       "      <td>0.998010</td>\n",
       "    </tr>\n",
       "    <tr>\n",
       "      <th>4</th>\n",
       "      <td>0.066250</td>\n",
       "      <td>0.315789</td>\n",
       "      <td>0.995025</td>\n",
       "      <td>0.995025</td>\n",
       "      <td>0.389578</td>\n",
       "      <td>0.5</td>\n",
       "      <td>0.666667</td>\n",
       "      <td>0.500</td>\n",
       "      <td>0.0</td>\n",
       "      <td>0.999005</td>\n",
       "    </tr>\n",
       "  </tbody>\n",
       "</table>\n",
       "</div>"
      ],
      "text/plain": [
       "    LotArea  MSSubClass  YearBuilt  YearRemodAdd  GrLivArea  HalfBath  \\\n",
       "0  0.039258    0.315789   0.996517      0.996517   0.303084       0.5   \n",
       "1  0.044600    0.105263   0.983085      0.983085   0.223680       0.0   \n",
       "2  0.052266    0.315789   0.995522      0.996020   0.316554       0.5   \n",
       "3  0.044368    0.368421   0.952736      0.980100   0.304325       0.0   \n",
       "4  0.066250    0.315789   0.995025      0.995025   0.389578       0.5   \n",
       "\n",
       "   FullBath  BedroomAbvGr  PoolArea    YrSold  \n",
       "0  0.666667         0.375       0.0  0.999005  \n",
       "1  0.666667         0.375       0.0  0.998507  \n",
       "2  0.666667         0.375       0.0  0.999005  \n",
       "3  0.333333         0.375       0.0  0.998010  \n",
       "4  0.666667         0.500       0.0  0.999005  "
      ]
     },
     "execution_count": 6,
     "metadata": {},
     "output_type": "execute_result"
    }
   ],
   "source": [
    "train.head()"
   ]
  },
  {
   "cell_type": "code",
   "execution_count": 7,
   "metadata": {
    "scrolled": false
   },
   "outputs": [
    {
     "data": {
      "text/html": [
       "<div>\n",
       "<style scoped>\n",
       "    .dataframe tbody tr th:only-of-type {\n",
       "        vertical-align: middle;\n",
       "    }\n",
       "\n",
       "    .dataframe tbody tr th {\n",
       "        vertical-align: top;\n",
       "    }\n",
       "\n",
       "    .dataframe thead th {\n",
       "        text-align: right;\n",
       "    }\n",
       "</style>\n",
       "<table border=\"1\" class=\"dataframe\">\n",
       "  <thead>\n",
       "    <tr style=\"text-align: right;\">\n",
       "      <th></th>\n",
       "      <th>LotArea</th>\n",
       "      <th>MSSubClass</th>\n",
       "      <th>YearBuilt</th>\n",
       "      <th>YearRemodAdd</th>\n",
       "      <th>GrLivArea</th>\n",
       "      <th>HalfBath</th>\n",
       "      <th>FullBath</th>\n",
       "      <th>BedroomAbvGr</th>\n",
       "      <th>PoolArea</th>\n",
       "      <th>YrSold</th>\n",
       "    </tr>\n",
       "  </thead>\n",
       "  <tbody>\n",
       "    <tr>\n",
       "      <th>0</th>\n",
       "      <td>0.205336</td>\n",
       "      <td>0.105263</td>\n",
       "      <td>0.975622</td>\n",
       "      <td>0.975622</td>\n",
       "      <td>0.175859</td>\n",
       "      <td>0.0</td>\n",
       "      <td>0.25</td>\n",
       "      <td>0.333333</td>\n",
       "      <td>0.0</td>\n",
       "      <td>1.0</td>\n",
       "    </tr>\n",
       "    <tr>\n",
       "      <th>1</th>\n",
       "      <td>0.252067</td>\n",
       "      <td>0.105263</td>\n",
       "      <td>0.974129</td>\n",
       "      <td>0.974129</td>\n",
       "      <td>0.260844</td>\n",
       "      <td>0.5</td>\n",
       "      <td>0.25</td>\n",
       "      <td>0.500000</td>\n",
       "      <td>0.0</td>\n",
       "      <td>1.0</td>\n",
       "    </tr>\n",
       "    <tr>\n",
       "      <th>2</th>\n",
       "      <td>0.244346</td>\n",
       "      <td>0.315789</td>\n",
       "      <td>0.993532</td>\n",
       "      <td>0.994030</td>\n",
       "      <td>0.319725</td>\n",
       "      <td>0.5</td>\n",
       "      <td>0.50</td>\n",
       "      <td>0.500000</td>\n",
       "      <td>0.0</td>\n",
       "      <td>1.0</td>\n",
       "    </tr>\n",
       "    <tr>\n",
       "      <th>3</th>\n",
       "      <td>0.176290</td>\n",
       "      <td>0.315789</td>\n",
       "      <td>0.994030</td>\n",
       "      <td>0.994030</td>\n",
       "      <td>0.314818</td>\n",
       "      <td>0.5</td>\n",
       "      <td>0.50</td>\n",
       "      <td>0.500000</td>\n",
       "      <td>0.0</td>\n",
       "      <td>1.0</td>\n",
       "    </tr>\n",
       "    <tr>\n",
       "      <th>4</th>\n",
       "      <td>0.088428</td>\n",
       "      <td>0.631579</td>\n",
       "      <td>0.991045</td>\n",
       "      <td>0.991045</td>\n",
       "      <td>0.251227</td>\n",
       "      <td>0.0</td>\n",
       "      <td>0.50</td>\n",
       "      <td>0.333333</td>\n",
       "      <td>0.0</td>\n",
       "      <td>1.0</td>\n",
       "    </tr>\n",
       "  </tbody>\n",
       "</table>\n",
       "</div>"
      ],
      "text/plain": [
       "    LotArea  MSSubClass  YearBuilt  YearRemodAdd  GrLivArea  HalfBath  \\\n",
       "0  0.205336    0.105263   0.975622      0.975622   0.175859       0.0   \n",
       "1  0.252067    0.105263   0.974129      0.974129   0.260844       0.5   \n",
       "2  0.244346    0.315789   0.993532      0.994030   0.319725       0.5   \n",
       "3  0.176290    0.315789   0.994030      0.994030   0.314818       0.5   \n",
       "4  0.088428    0.631579   0.991045      0.991045   0.251227       0.0   \n",
       "\n",
       "   FullBath  BedroomAbvGr  PoolArea  YrSold  \n",
       "0      0.25      0.333333       0.0     1.0  \n",
       "1      0.25      0.500000       0.0     1.0  \n",
       "2      0.50      0.500000       0.0     1.0  \n",
       "3      0.50      0.500000       0.0     1.0  \n",
       "4      0.50      0.333333       0.0     1.0  "
      ]
     },
     "execution_count": 7,
     "metadata": {},
     "output_type": "execute_result"
    }
   ],
   "source": [
    "test.head()"
   ]
  },
  {
   "cell_type": "markdown",
   "metadata": {},
   "source": [
    "##### Veamos como se relacionan algunas de nuestras variables contra el precio."
   ]
  },
  {
   "cell_type": "code",
   "execution_count": 8,
   "metadata": {
    "scrolled": true
   },
   "outputs": [
    {
     "data": {
      "image/png": "[encoded data removed]",
      "text/plain": [
       "<Figure size 432x288 with 1 Axes>"
      ]
     },
     "metadata": {
      "needs_background": "light"
     },
     "output_type": "display_data"
    }
   ],
   "source": [
    "plt.scatter(train['LotArea'], precio_train, label='Terreno vs Precio')\n",
    "plt.legend(loc='best', frameon=False)\n",
    "plt.xlabel('Superficie')\n",
    "plt.ylabel('Precio')\n",
    "plt.show()"
   ]
  },
  {
   "cell_type": "code",
   "execution_count": 9,
   "metadata": {},
   "outputs": [
    {
     "data": {
      "image/png": "[encoded data removed]",
      "text/plain": [
       "<Figure size 432x288 with 1 Axes>"
      ]
     },
     "metadata": {
      "needs_background": "light"
     },
     "output_type": "display_data"
    }
   ],
   "source": [
    "plt.scatter(train['MSSubClass'], precio_train, label='Clase vs Precio')\n",
    "plt.legend(loc='best', frameon=False)\n",
    "plt.xlabel('Clase')\n",
    "plt.ylabel('Precio')\n",
    "plt.show()"
   ]
  },
  {
   "cell_type": "code",
   "execution_count": 10,
   "metadata": {},
   "outputs": [
    {
     "data": {
      "image/png": "[encoded data removed]",
      "text/plain": [
       "<Figure size 432x288 with 1 Axes>"
      ]
     },
     "metadata": {
      "needs_background": "light"
     },
     "output_type": "display_data"
    }
   ],
   "source": [
    "plt.scatter(train['GrLivArea'], precio_train, label='Area común vs Precio')\n",
    "plt.legend(loc='best', frameon=False)\n",
    "plt.xlabel('Superficie')\n",
    "plt.ylabel('Precio')\n",
    "plt.show()"
   ]
  },
  {
   "cell_type": "code",
   "execution_count": 11,
   "metadata": {},
   "outputs": [
    {
     "data": {
      "image/png": "[encoded data removed]",
      "text/plain": [
       "<Figure size 432x288 with 1 Axes>"
      ]
     },
     "metadata": {
      "needs_background": "light"
     },
     "output_type": "display_data"
    }
   ],
   "source": [
    "plt.scatter(train['PoolArea'], precio_train, label='Area de psicina vs Precio')\n",
    "plt.legend(loc='best', frameon=False)\n",
    "plt.xlabel('Superficie')\n",
    "plt.ylabel('Precio')\n",
    "plt.show()"
   ]
  },
  {
   "cell_type": "markdown",
   "metadata": {},
   "source": [
    "#### Estamos listos para aplicar nuestros modelos. Importamos los modelos de regresión lineal, lasso y Ridge. Veamos cual tiene mejor desempeño."
   ]
  },
  {
   "cell_type": "code",
   "execution_count": 12,
   "metadata": {},
   "outputs": [],
   "source": [
    "from sklearn.linear_model import LinearRegression\n",
    "from sklearn.linear_model import Lasso \n",
    "from sklearn.linear_model import Ridge"
   ]
  },
  {
   "cell_type": "markdown",
   "metadata": {},
   "source": [
    "##### Regresión lineal."
   ]
  },
  {
   "cell_type": "code",
   "execution_count": 13,
   "metadata": {},
   "outputs": [
    {
     "data": {
      "text/plain": [
       "LinearRegression(copy_X=True, fit_intercept=True, n_jobs=None, normalize=False)"
      ]
     },
     "execution_count": 13,
     "metadata": {},
     "output_type": "execute_result"
    }
   ],
   "source": [
    "lineal_model = LinearRegression()\n",
    "lineal_model.fit(train, precio_train)"
   ]
  },
  {
   "cell_type": "code",
   "execution_count": 14,
   "metadata": {},
   "outputs": [
    {
     "data": {
      "text/plain": [
       "0.7195855665885313"
      ]
     },
     "execution_count": 14,
     "metadata": {},
     "output_type": "execute_result"
    }
   ],
   "source": [
    "lineal_model.score(train, precio_train)"
   ]
  },
  {
   "cell_type": "code",
   "execution_count": 15,
   "metadata": {},
   "outputs": [
    {
     "data": {
      "text/plain": [
       "-17.447572524363608"
      ]
     },
     "execution_count": 15,
     "metadata": {},
     "output_type": "execute_result"
    }
   ],
   "source": [
    "lineal_model.score(test, precio_test)"
   ]
  },
  {
   "cell_type": "markdown",
   "metadata": {},
   "source": [
    "##### Lasso"
   ]
  },
  {
   "cell_type": "code",
   "execution_count": 16,
   "metadata": {},
   "outputs": [
    {
     "data": {
      "text/plain": [
       "Lasso(alpha=0.5, copy_X=True, fit_intercept=True, max_iter=1000000.0,\n",
       "      normalize=True, positive=False, precompute=False, random_state=None,\n",
       "      selection='cyclic', tol=0.0001, warm_start=False)"
      ]
     },
     "execution_count": 16,
     "metadata": {},
     "output_type": "execute_result"
    }
   ],
   "source": [
    "lasso_model = Lasso(alpha=0.5,normalize=True, max_iter=1e6)\n",
    "lasso_model.fit(train, precio_train)"
   ]
  },
  {
   "cell_type": "code",
   "execution_count": 17,
   "metadata": {},
   "outputs": [
    {
     "data": {
      "text/plain": [
       "0.7195843629755905"
      ]
     },
     "execution_count": 17,
     "metadata": {},
     "output_type": "execute_result"
    }
   ],
   "source": [
    "lasso_model.score(train, precio_train)"
   ]
  },
  {
   "cell_type": "code",
   "execution_count": 18,
   "metadata": {},
   "outputs": [
    {
     "data": {
      "text/plain": [
       "-17.40361605715998"
      ]
     },
     "execution_count": 18,
     "metadata": {},
     "output_type": "execute_result"
    }
   ],
   "source": [
    "lasso_model.score(test, precio_test)"
   ]
  },
  {
   "cell_type": "markdown",
   "metadata": {},
   "source": [
    "##### Ridge"
   ]
  },
  {
   "cell_type": "code",
   "execution_count": 19,
   "metadata": {},
   "outputs": [
    {
     "data": {
      "text/plain": [
       "Ridge(alpha=0.5, copy_X=True, fit_intercept=True, max_iter=None,\n",
       "      normalize=False, random_state=None, solver='auto', tol=0.001)"
      ]
     },
     "execution_count": 19,
     "metadata": {},
     "output_type": "execute_result"
    }
   ],
   "source": [
    "ridge_model = Ridge(alpha=0.5)\n",
    "ridge_model.fit(train, precio_train)"
   ]
  },
  {
   "cell_type": "code",
   "execution_count": 20,
   "metadata": {},
   "outputs": [
    {
     "data": {
      "text/plain": [
       "0.6727979813846945"
      ]
     },
     "execution_count": 20,
     "metadata": {},
     "output_type": "execute_result"
    }
   ],
   "source": [
    "ridge_model.score(train, precio_train)"
   ]
  },
  {
   "cell_type": "code",
   "execution_count": 21,
   "metadata": {},
   "outputs": [
    {
     "data": {
      "text/plain": [
       "-11.59216349224297"
      ]
     },
     "execution_count": 21,
     "metadata": {},
     "output_type": "execute_result"
    }
   ],
   "source": [
    "ridge_model.score(test, precio_test)"
   ]
  },
  {
   "cell_type": "markdown",
   "metadata": {},
   "source": [
    "#### Observamos que el modelo de regresión lineal y el de Lasso ajustan mejor a nuestros datos pero se desempeñan pobremente a la hora de predecir en la fase de validación. En cambio, el modelo de Ridge ajusta menos a los datos, pero tiene un mejor desempeño en la fase de validación. "
   ]
  }
 ],
 "metadata": {
  "kernelspec": {
   "display_name": "Python 3",
   "language": "python",
   "name": "python3"
  },
  "language_info": {
   "codemirror_mode": {
    "name": "ipython",
    "version": 3
   },
   "file_extension": ".py",
   "mimetype": "text/x-python",
   "name": "python",
   "nbconvert_exporter": "python",
   "pygments_lexer": "ipython3",
   "version": "3.7.6"
  }
 },
 "nbformat": 4,
 "nbformat_minor": 4
}
